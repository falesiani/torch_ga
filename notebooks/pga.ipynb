{
 "cells": [
  {
   "cell_type": "code",
   "execution_count": 1,
   "metadata": {},
   "outputs": [],
   "source": [
    "%load_ext autoreload\n",
    "%autoreload 2\n",
    "\n",
    "# import tensorflow as tf\n",
    "\n",
    "# # Make tensorflow not take over the entire GPU memory\n",
    "# for gpu in tf.config.experimental.list_physical_devices('GPU'):\n",
    "#     tf.config.experimental.set_memory_growth(gpu, True)\n",
    "\n",
    "from matplotlib import pyplot as plt\n",
    "# from tfga import GeometricAlgebra\n",
    "\n",
    "import torch\n",
    "from torch_ga import GeometricAlgebra\n",
    "from torch_ga.blades import BladeKind\n",
    "from torch_ga.layers import GeometricProductConv1D"
   ]
  },
  {
   "cell_type": "code",
   "execution_count": 2,
   "metadata": {},
   "outputs": [
    {
     "name": "stdout",
     "output_type": "stream",
     "text": [
      "tensor([[0., 1., 0., 0., 0., 0., 0., 0.],\n",
      "        [0., 0., 1., 0., 0., 0., 0., 0.],\n",
      "        [0., 0., 0., 1., 0., 0., 0., 0.]])\n"
     ]
    }
   ],
   "source": [
    "ga = GeometricAlgebra([0, 1, 1])\n",
    "print(ga.basis_mvs)"
   ]
  },
  {
   "cell_type": "code",
   "execution_count": 3,
   "metadata": {},
   "outputs": [
    {
     "name": "stdout",
     "output_type": "stream",
     "text": [
      "P1: MultiVector[-1.00*e_01 + 1.00*e_12]\n",
      "P2: MultiVector[0.50*e_01 + 1.00*e_02 + 1.00*e_12]\n",
      "P3: MultiVector[0.50*e_01 + -1.00*e_02 + 1.00*e_12]\n",
      "P4: MultiVector[1.00*e_01 + 1.00*e_12]\n",
      "P5: MultiVector[1.00*e_12]\n",
      "L14: MultiVector[-2.00*e_1]\n",
      "Signed distance between P2 and L14: MultiVector[1.00*1]\n",
      "Signed distance between P3 and L14: MultiVector[-1.00*1]\n",
      "P2 on L14: MultiVector[2.00*e_01 + 4.00*e_12]\n"
     ]
    },
    {
     "name": "stderr",
     "output_type": "stream",
     "text": [
      "/home/alesiani/python/torch_ga_private/torch_ga/torch_ga.py:618: UserWarning: To copy construct from a tensor, it is recommended to use sourceTensor.clone().detach() or sourceTensor.clone().detach().requires_grad_(True), rather than torch.tensor(sourceTensor).\n",
      "  a = torch.tensor(a, dtype=torch.float32)\n",
      "/home/alesiani/python/torch_ga_private/torch_ga/torch_ga.py:619: UserWarning: To copy construct from a tensor, it is recommended to use sourceTensor.clone().detach() or sourceTensor.clone().detach().requires_grad_(True), rather than torch.tensor(sourceTensor).\n",
      "  b = torch.tensor(b, dtype=torch.float32)\n",
      "/home/alesiani/python/torch_ga_private/torch_ga/torch_ga.py:538: UserWarning: To copy construct from a tensor, it is recommended to use sourceTensor.clone().detach() or sourceTensor.clone().detach().requires_grad_(True), rather than torch.tensor(sourceTensor).\n",
      "  tensor = torch.tensor(tensor, dtype=torch.float32)\n"
     ]
    }
   ],
   "source": [
    "\"\"\"\n",
    "     p_4\n",
    "\n",
    "p_2       p_3\n",
    "\n",
    "     p_5\n",
    "\n",
    "     p_1\n",
    "\n",
    "p: x e_20 + y e_01 + e_12\n",
    "\"\"\"\n",
    "\n",
    "def mv_length(mv):\n",
    "    return torch.sqrt((mv * ~mv).tensor)[..., 0]\n",
    "\n",
    "def dist_point_line(point, line):\n",
    "    point_normalized = point.tensor / mv_length(point)\n",
    "    line_normalized = line.tensor / mv_length(line)\n",
    "    return ga(point_normalized) & ga(line_normalized)\n",
    "\n",
    "def dist_points(point_a, point_b):\n",
    "    point_a_normalized = point_a.tensor / mv_length(point_a)\n",
    "    point_b_normalized = point_b.tensor / mv_length(point_b)\n",
    "\n",
    "    return ga(point_a_normalized) & ga(point_b_normalized)\n",
    "\n",
    "def proj_point_line(point, line):\n",
    "    return (point | line) * line\n",
    "\n",
    "def intersect_lines(line_a, line_b):\n",
    "    return line_a ^ line_b\n",
    "\n",
    "def point_coordinates(point):\n",
    "    z = point(\"12\")\n",
    "    x = point(\"20\") / z\n",
    "    y = point(\"01\") / z\n",
    "    return x, y\n",
    "\n",
    "# Shift up vertically\n",
    "shift_23 = 0.5 * ga.e01\n",
    "\n",
    "p_1 = ga(ga.e12 - ga.e01)\n",
    "p_2 = ga(ga.e12 - ga.e20 + shift_23)\n",
    "p_3 = ga(ga.e12 + ga.e20 + shift_23)\n",
    "p_4 = ga(ga.e12 + ga.e01)\n",
    "p_5 = ga(ga.e12)\n",
    "\n",
    "l_14 = p_1 & p_4\n",
    "l_23 = p_2 & p_3\n",
    "\n",
    "p2_on_l14 = proj_point_line(p_2, l_14)\n",
    "\n",
    "print(\"P1:\", p_1)\n",
    "print(\"P2:\", p_2)\n",
    "print(\"P3:\", p_3)\n",
    "print(\"P4:\", p_4)\n",
    "print(\"P5:\", p_5)\n",
    "print(\"L14:\", l_14)\n",
    "print(\"Signed distance between P2 and L14:\", dist_point_line(p_2, l_14))\n",
    "print(\"Signed distance between P3 and L14:\", dist_point_line(p_3, l_14))\n",
    "print(\"P2 on L14:\", p2_on_l14)"
   ]
  },
  {
   "cell_type": "code",
   "execution_count": 4,
   "metadata": {},
   "outputs": [
    {
     "data": {
      "image/png": "[encoded data removed]",
      "text/plain": [
       "<Figure size 576x576 with 1 Axes>"
      ]
     },
     "metadata": {
      "needs_background": "light"
     },
     "output_type": "display_data"
    }
   ],
   "source": [
    "# Plot the results\n",
    "\n",
    "def plot_point(point, name):\n",
    "    xy = point_coordinates(point)\n",
    "    plt.scatter(*xy, marker=\"x\")\n",
    "    plt.annotate(name, xy)\n",
    "\n",
    "plt.figure(figsize=(8, 8))\n",
    "plot_point(p_1, \"P1\")\n",
    "plot_point(p_2, \"P2\")\n",
    "plot_point(p_3, \"P3\")\n",
    "plot_point(p_4, \"P4\")\n",
    "plot_point(p_5, \"P5\")\n",
    "plot_point(p2_on_l14, \"P2 on L14\")\n",
    "plt.xlabel(\"X\")\n",
    "plt.ylabel(\"Y\")\n",
    "plt.title(\"Points\")\n",
    "plt.show()"
   ]
  },
  {
   "cell_type": "code",
   "execution_count": null,
   "metadata": {},
   "outputs": [],
   "source": []
  }
 ],
 "metadata": {
  "kernelspec": {
   "display_name": "Python 3.9.7 ('py39')",
   "language": "python",
   "name": "python3"
  },
  "language_info": {
   "codemirror_mode": {
    "name": "ipython",
    "version": 3
   },
   "file_extension": ".py",
   "mimetype": "text/x-python",
   "name": "python",
   "nbconvert_exporter": "python",
   "pygments_lexer": "ipython3",
   "version": "3.9.7"
  },
  "orig_nbformat": 2,
  "vscode": {
   "interpreter": {
    "hash": "1eb4a3ef24f2411c1d45e358d8a9db86d5ad6a3ec0488c97e220572224435ee5"
   }
  }
 },
 "nbformat": 4,
 "nbformat_minor": 2
}
