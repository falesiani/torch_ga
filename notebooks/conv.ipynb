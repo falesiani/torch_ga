{
 "cells": [
  {
   "cell_type": "code",
   "execution_count": 6,
   "metadata": {
    "tags": []
   },
   "outputs": [
    {
     "name": "stdout",
     "output_type": "stream",
     "text": [
      "The autoreload extension is already loaded. To reload it, use:\n",
      "  %reload_ext autoreload\n"
     ]
    }
   ],
   "source": [
    "%load_ext autoreload\n",
    "%autoreload 2\n",
    "\n",
    "import matplotlib.pyplot as plt\n",
    "# import tensorflow as tf\n",
    "# Make tensorflow not take over the entire GPU memory\n",
    "# for gpu in tf.config.experimental.list_physical_devices('GPU'):\n",
    "#     tf.config.experimental.set_memory_growth(gpu, True)\n",
    "\n",
    "import torch\n",
    "from torch_ga import GeometricAlgebra\n",
    "from torch_ga.blades import BladeKind\n",
    "from torch_ga.layers import GeometricProductConv1D"
   ]
  },
  {
   "cell_type": "code",
   "execution_count": 2,
   "metadata": {
    "tags": []
   },
   "outputs": [
    {
     "name": "stdout",
     "output_type": "stream",
     "text": [
      "torch.Size([2, 9, 4, 16])\n",
      "tensor([[[[  0., -12.,   0.,  ...,  12.,  12.,  12.],\n",
      "          [  0., -12.,   0.,  ...,  12.,  12.,  12.],\n",
      "          [  0., -12.,   0.,  ...,  12.,  12.,  12.],\n",
      "          [  0., -12.,   0.,  ...,  12.,  12.,  12.]],\n",
      "\n",
      "         [[  0., -12.,   0.,  ...,  12.,  12.,  12.],\n",
      "          [  0., -12.,   0.,  ...,  12.,  12.,  12.],\n",
      "          [  0., -12.,   0.,  ...,  12.,  12.,  12.],\n",
      "          [  0., -12.,   0.,  ...,  12.,  12.,  12.]],\n",
      "\n",
      "         [[  0., -12.,   0.,  ...,  12.,  12.,  12.],\n",
      "          [  0., -12.,   0.,  ...,  12.,  12.,  12.],\n",
      "          [  0., -12.,   0.,  ...,  12.,  12.,  12.],\n",
      "          [  0., -12.,   0.,  ...,  12.,  12.,  12.]],\n",
      "\n",
      "         ...,\n",
      "\n",
      "         [[  0., -12.,   0.,  ...,  12.,  12.,  12.],\n",
      "          [  0., -12.,   0.,  ...,  12.,  12.,  12.],\n",
      "          [  0., -12.,   0.,  ...,  12.,  12.,  12.],\n",
      "          [  0., -12.,   0.,  ...,  12.,  12.,  12.]],\n",
      "\n",
      "         [[  0., -12.,   0.,  ...,  12.,  12.,  12.],\n",
      "          [  0., -12.,   0.,  ...,  12.,  12.,  12.],\n",
      "          [  0., -12.,   0.,  ...,  12.,  12.,  12.],\n",
      "          [  0., -12.,   0.,  ...,  12.,  12.,  12.]],\n",
      "\n",
      "         [[  0., -12.,   0.,  ...,  12.,  12.,  12.],\n",
      "          [  0., -12.,   0.,  ...,  12.,  12.,  12.],\n",
      "          [  0., -12.,   0.,  ...,  12.,  12.,  12.],\n",
      "          [  0., -12.,   0.,  ...,  12.,  12.,  12.]]],\n",
      "\n",
      "\n",
      "        [[[  0., -12.,   0.,  ...,  12.,  12.,  12.],\n",
      "          [  0., -12.,   0.,  ...,  12.,  12.,  12.],\n",
      "          [  0., -12.,   0.,  ...,  12.,  12.,  12.],\n",
      "          [  0., -12.,   0.,  ...,  12.,  12.,  12.]],\n",
      "\n",
      "         [[  0., -12.,   0.,  ...,  12.,  12.,  12.],\n",
      "          [  0., -12.,   0.,  ...,  12.,  12.,  12.],\n",
      "          [  0., -12.,   0.,  ...,  12.,  12.,  12.],\n",
      "          [  0., -12.,   0.,  ...,  12.,  12.,  12.]],\n",
      "\n",
      "         [[  0., -12.,   0.,  ...,  12.,  12.,  12.],\n",
      "          [  0., -12.,   0.,  ...,  12.,  12.,  12.],\n",
      "          [  0., -12.,   0.,  ...,  12.,  12.,  12.],\n",
      "          [  0., -12.,   0.,  ...,  12.,  12.,  12.]],\n",
      "\n",
      "         ...,\n",
      "\n",
      "         [[  0., -12.,   0.,  ...,  12.,  12.,  12.],\n",
      "          [  0., -12.,   0.,  ...,  12.,  12.,  12.],\n",
      "          [  0., -12.,   0.,  ...,  12.,  12.,  12.],\n",
      "          [  0., -12.,   0.,  ...,  12.,  12.,  12.]],\n",
      "\n",
      "         [[  0., -12.,   0.,  ...,  12.,  12.,  12.],\n",
      "          [  0., -12.,   0.,  ...,  12.,  12.,  12.],\n",
      "          [  0., -12.,   0.,  ...,  12.,  12.,  12.],\n",
      "          [  0., -12.,   0.,  ...,  12.,  12.,  12.]],\n",
      "\n",
      "         [[  0., -12.,   0.,  ...,  12.,  12.,  12.],\n",
      "          [  0., -12.,   0.,  ...,  12.,  12.,  12.],\n",
      "          [  0., -12.,   0.,  ...,  12.,  12.,  12.],\n",
      "          [  0., -12.,   0.,  ...,  12.,  12.,  12.]]]])\n"
     ]
    }
   ],
   "source": [
    "ga = GeometricAlgebra([0, 1, 1, 1])\n",
    "\n",
    "batch_size = 2\n",
    "sequence_length = 8\n",
    "c_in = 3\n",
    "c_out = 4\n",
    "kernel_size = 3\n",
    "\n",
    "a = ga.from_tensor_with_kind(torch.ones([batch_size, sequence_length, c_in, ga.num_blades]), BladeKind.MV)\n",
    "k = ga.from_tensor_with_kind(torch.ones([kernel_size, c_in, c_out, ga.num_blades]), BladeKind.MV)\n",
    "\n",
    "y = ga.geom_conv1d(a, k, 2, \"SAME\")\n",
    "\n",
    "print(y.shape)\n",
    "print(y)"
   ]
  },
  {
   "cell_type": "code",
   "execution_count": 8,
   "metadata": {
    "tags": []
   },
   "outputs": [
    {
     "name": "stdout",
     "output_type": "stream",
     "text": [
      "torch.Size([2, 9, 4, 16])\n",
      "MultiVector[batch_shape=torch.Size([2, 9, 4])]\n",
      "MultiVector[0.01*1 + 0.02*e_0 + 0.00*e_1 + 0.01*e_2 + 0.02*e_3 + 0.03*e_01 + 0.00*e_02 + 0.02*e_03 + 0.00*e_12 + 0.01*e_13 + 0.02*e_23 + 0.00*e_012 + 0.04*e_013 + 0.01*e_023 + 0.01*e_123 + 0.01*e_0123]\n"
     ]
    },
    {
     "name": "stderr",
     "output_type": "stream",
     "text": [
      "/home/alesiani/python/torch_ga_private/torch_ga/layers.py:604: UserWarning: To copy construct from a tensor, it is recommended to use sourceTensor.clone().detach() or sourceTensor.clone().detach().requires_grad_(True), rather than torch.tensor(sourceTensor).\n",
      "  if use_bias:\n",
      "/home/alesiani/python/torch_ga_private/torch_ga/layers.py:606: UserWarning: To copy construct from a tensor, it is recommended to use sourceTensor.clone().detach() or sourceTensor.clone().detach().requires_grad_(True), rather than torch.tensor(sourceTensor).\n",
      "  # self.blade_indices_kernel = blade_indices_kernel.to(dtype=torch.int64)\n"
     ]
    }
   ],
   "source": [
    "mv_indices = torch.arange(ga.num_blades, dtype=torch.int64)\n",
    "\n",
    "conv_layer = GeometricProductConv1D(\n",
    "    ga, filters=c_out, kernel_size=kernel_size, stride=2, padding=\"SAME\",\n",
    "    blade_indices_kernel=torch.arange(ga.num_blades, dtype=torch.int64),\n",
    "    blade_indices_bias=torch.arange(ga.num_blades, dtype=torch.int64)\n",
    ")\n",
    "\n",
    "y2 = conv_layer(a)\n",
    "print(y2.shape)\n",
    "ga.print(y2)\n",
    "ga.print(y2[0, 0, 0])"
   ]
  },
  {
   "cell_type": "code",
   "execution_count": null,
   "metadata": {},
   "outputs": [],
   "source": []
  }
 ],
 "metadata": {
  "kernelspec": {
   "display_name": "Python 3.9.7 ('py39')",
   "language": "python",
   "name": "python3"
  },
  "language_info": {
   "codemirror_mode": {
    "name": "ipython",
    "version": 3
   },
   "file_extension": ".py",
   "mimetype": "text/x-python",
   "name": "python",
   "nbconvert_exporter": "python",
   "pygments_lexer": "ipython3",
   "version": "3.9.7"
  },
  "orig_nbformat": 2,
  "vscode": {
   "interpreter": {
    "hash": "1eb4a3ef24f2411c1d45e358d8a9db86d5ad6a3ec0488c97e220572224435ee5"
   }
  }
 },
 "nbformat": 4,
 "nbformat_minor": 2
}
