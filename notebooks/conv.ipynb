{
 "cells": [
  {
   "cell_type": "code",
   "execution_count": null,
   "metadata": {
    "tags": []
   },
   "outputs": [],
   "source": [
    "%load_ext autoreload\n",
    "%autoreload 2\n",
    "\n",
    "import matplotlib.pyplot as plt\n",
    "\n",
    "import torch\n",
    "from torch_ga import GeometricAlgebra\n",
    "from torch_ga.blades import BladeKind\n",
    "from torch_ga.layers import GeometricProductConv1D"
   ]
  },
  {
   "cell_type": "code",
   "execution_count": null,
   "metadata": {
    "tags": []
   },
   "outputs": [],
   "source": [
    "ga = GeometricAlgebra([0, 1, 1, 1])\n",
    "\n",
    "batch_size = 2\n",
    "sequence_length = 8\n",
    "c_in = 3\n",
    "c_out = 4\n",
    "kernel_size = 3\n",
    "\n",
    "a = ga.from_tensor_with_kind(torch.ones([batch_size, sequence_length, c_in, ga.num_blades]), BladeKind.MV)\n",
    "k = ga.from_tensor_with_kind(torch.ones([kernel_size, c_in, c_out, ga.num_blades]), BladeKind.MV)\n",
    "\n",
    "y = ga.geom_conv1d(a, k, 2, \"SAME\")\n",
    "\n",
    "print(y.shape)\n",
    "print(y)"
   ]
  },
  {
   "cell_type": "code",
   "execution_count": null,
   "metadata": {
    "tags": []
   },
   "outputs": [],
   "source": [
    "mv_indices = torch.arange(ga.num_blades, dtype=torch.int64)\n",
    "\n",
    "conv_layer = GeometricProductConv1D(\n",
    "    ga, filters=c_out, kernel_size=kernel_size, stride=2, padding=\"SAME\",\n",
    "    blade_indices_kernel=torch.arange(ga.num_blades, dtype=torch.int64),\n",
    "    blade_indices_bias=torch.arange(ga.num_blades, dtype=torch.int64)\n",
    ")\n",
    "\n",
    "y2 = conv_layer(a)\n",
    "print(y2.shape)\n",
    "ga.print(y2)\n",
    "ga.print(y2[0, 0, 0])"
   ]
  },
  {
   "cell_type": "code",
   "execution_count": null,
   "metadata": {},
   "outputs": [],
   "source": []
  }
 ],
 "metadata": {
  "kernelspec": {
   "display_name": "Python 3.9.7 ('py39')",
   "language": "python",
   "name": "python3"
  },
  "language_info": {
   "codemirror_mode": {
    "name": "ipython",
    "version": 3
   },
   "file_extension": ".py",
   "mimetype": "text/x-python",
   "name": "python",
   "nbconvert_exporter": "python",
   "pygments_lexer": "ipython3",
   "version": "3.9.7"
  },
  "orig_nbformat": 2,
  "vscode": {
   "interpreter": {
    "hash": "1eb4a3ef24f2411c1d45e358d8a9db86d5ad6a3ec0488c97e220572224435ee5"
   }
  }
 },
 "nbformat": 4,
 "nbformat_minor": 2
}
