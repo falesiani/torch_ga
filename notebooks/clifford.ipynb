{
 "cells": [
  {
   "cell_type": "code",
   "execution_count": null,
   "metadata": {},
   "outputs": [],
   "source": [
    "%load_ext autoreload\n",
    "%autoreload 2\n",
    "\n",
    "\n",
    "import numpy as np\n",
    "\n",
    "import torch\n",
    "from torch_ga import GeometricAlgebra\n",
    "from torch_ga.clifford.algebra import CliffordAlgebra\n",
    "\n",
    "# from icecream import ic\n",
    "ic = print"
   ]
  },
  {
   "cell_type": "code",
   "execution_count": null,
   "metadata": {},
   "outputs": [],
   "source": [
    "import torch_ga\n",
    "print(torch_ga.__version__)"
   ]
  },
  {
   "cell_type": "code",
   "execution_count": null,
   "metadata": {},
   "outputs": [],
   "source": [
    "ga = GeometricAlgebra([1, 1, -1])\n",
    "\n",
    "cl = CliffordAlgebra([1, 1, -1])"
   ]
  },
  {
   "cell_type": "code",
   "execution_count": null,
   "metadata": {},
   "outputs": [],
   "source": [
    "a = cl.embed(torch.tensor([3.,5.]),(3,4))\n",
    "b = cl.embed(torch.tensor([2.,1.]),(3,4))\n",
    "ic(a)\n",
    "ic(b)\n",
    "print(cl.product(a,b),cl.inner_product(a,b),cl.outer_product(a,b))\n",
    "\n",
    "a = cl(a)\n",
    "b = cl(b)\n",
    "\n",
    "ic(a,b,a*b,a|b, a^b)"
   ]
  },
  {
   "cell_type": "code",
   "execution_count": null,
   "metadata": {},
   "outputs": [],
   "source": [
    "a = ga.e_ + ga.e0 + ga.e1\n",
    "b = -ga.e_ + ga.e01 \n",
    "\n",
    "print(cl.product(a,b),cl.inner_product(a,b)+cl.outer_product(a,b))\n",
    "\n",
    "ic(cl.product(a,b),cl.inner_product(a,b),cl.outer_product(a,b))\n",
    "\n"
   ]
  }
 ],
 "metadata": {
  "kernelspec": {
   "display_name": "ga",
   "language": "python",
   "name": "python3"
  },
  "language_info": {
   "codemirror_mode": {
    "name": "ipython",
    "version": 3
   },
   "file_extension": ".py",
   "mimetype": "text/x-python",
   "name": "python",
   "nbconvert_exporter": "python",
   "pygments_lexer": "ipython3",
   "version": "3.12.12"
  },
  "orig_nbformat": 2
 },
 "nbformat": 4,
 "nbformat_minor": 2
}
