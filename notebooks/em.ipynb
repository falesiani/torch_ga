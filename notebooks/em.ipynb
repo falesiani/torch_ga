{
 "cells": [
  {
   "cell_type": "code",
   "execution_count": null,
   "metadata": {},
   "outputs": [],
   "source": [
    "%load_ext autoreload\n",
    "%autoreload 2\n",
    "\n",
    "# import tensorflow as tf\n",
    "# # Make tensorflow not take over the entire GPU memory\n",
    "# for gpu in tf.config.experimental.list_physical_devices('GPU'):\n",
    "#     tf.config.experimental.set_memory_growth(gpu, True)\n",
    "\n",
    "import numpy as np\n",
    "from matplotlib import pyplot as plt\n",
    "from IPython.display import Video\n",
    "# from tfga import GeometricAlgebra\n",
    "\n",
    "import torch\n",
    "from torch.nn.functional import pad\n",
    "from torch_ga import GeometricAlgebra\n",
    "# from torch_ga.blades import BladeKind\n",
    "# from torch_ga.layers import GeometricProductConv1D\n",
    "\n",
    "np.set_printoptions(precision=2, suppress=True)\n",
    "\n",
    "# FA: still to do"
   ]
  },
  {
   "cell_type": "code",
   "execution_count": null,
   "metadata": {},
   "outputs": [],
   "source": [
    "# !pip install ipywidgets"
   ]
  },
  {
   "cell_type": "markdown",
   "metadata": {},
   "source": [
    "### Introduction\n",
    "\n",
    "Classical electromagnetism is most often described using maxwell's equations. Instead, we can also describe it using a Lagrange density and an action which is the spacetime integral over the Lagrange density.\n",
    "The field is represented by a 4-vector in the [spacetime-algebra](https://en.wikipedia.org/wiki/Spacetime_algebra) where the first component is the electric potential and the last three components are the magnetic vector potential. Such as 4-vector is given at every point in spacetime. The Lagrangian density at a spacetime point $X = (t, x, y, z)$ for such a 4-vector field $A(X)$ when speed of light $c = 1$ and without external sources is given by the following equation:\n",
    "\n",
    "$\\mathcal{L}(A, X) = \\langle \\nabla_X A(X) * \\widetilde{\\nabla_X A}(X) \\rangle_0$\n",
    "\n",
    "The [principle of stationary action](https://en.wikipedia.org/wiki/Principle_of_least_action) then states that the classical solution of the field is achieved when the action\n",
    "\n",
    "$S(A) = \\int_{X}{\\mathcal{L}(A, X) dX}$\n",
    "\n",
    "does not change anymore, that is $\\delta S(A) = 0$.\n",
    "\n",
    "### Goal\n",
    "Below we will obtain an entire space-time field configuration $A(X)$ given only some boundary conditions and a function for the action given $A$. We will then use Tensorflow's optimizer to\n",
    "find a field configuration that makes the action stationary."
   ]
  },
  {
   "cell_type": "markdown",
   "metadata": {},
   "source": [
    "### Create the spacetime algebra\n",
    "Here we initialize a `tfga.GeometricAlgebra` instance with bases $e_0=e_t, e_1=e_x, e_2=e_y, e_3=e_z$ and corresponding metric $[-1, 1, 1, 1]$. We will use this\n",
    "when calculating the action later as we need the geometric product and reversion operations."
   ]
  },
  {
   "cell_type": "code",
   "execution_count": null,
   "metadata": {},
   "outputs": [],
   "source": [
    "ga = GeometricAlgebra([-1, 1, 1, 1])"
   ]
  },
  {
   "cell_type": "markdown",
   "metadata": {},
   "source": [
    "### Calculate the action\n",
    "Now we create a function which returns the action $S$ given a field configuration $A(X)$ on a discretized spacetime lattice of size $[N, N, N, N]$. We use the following boundary conditions for $A(X)$:\n",
    "\n",
    "$A_{t=-1} = 0, A_{t=N} = 0$\n",
    "\n",
    "$A_{x=-1} = 10 sin(4 * \\pi / N * t) e_0, A_{x=N} = -5 e_0$\n",
    "\n",
    "$A_{y=-1} = 0, A_{y=N} = 0$\n",
    "\n",
    "$A_{z=-1} = 0, A_{z=N} = 0$\n",
    "\n",
    "As a reminder, $e_0$ is the electric potential part of the 4-vector, so we have a periodic sine electric potential that changes over time (two periods in total) and amplitude `10` at the lower x boundary and a constant negative electric potential of `-5` at the upper x boundary."
   ]
  },
  {
   "cell_type": "code",
   "execution_count": null,
   "metadata": {},
   "outputs": [],
   "source": [
    "def get_action(config_a_variable,grid_size):\n",
    "    # config_a_variable will be of shape [N, N, N, N, 4].\n",
    "    # The last axis' values are the e0, e1, e2, e3 parts of the multivector.\n",
    "\n",
    "    # Finite differences in each direction using padding.\n",
    "    # Example with zero padding (ie. zeros on the boundary):\n",
    "    # 1 2 3\n",
    "    #   1 2 3 0 padded right\n",
    "    # - 0 1 2 3 padded left\n",
    "    # = 1 1 1-3 padded right - padded left\n",
    "    # As spacing we use 1 so we don't need to divide by anything here.\n",
    "    \n",
    "    # Also use the boundary conditions in the padded values here.\n",
    "    # This gets a bit verbose because of the pad syntax esepcially since we only want to pad the\n",
    "    # first index of the last axis with non-zeros.\n",
    "\n",
    "    # Create time-varying boundary condition. Start with sine of shape [N].\n",
    "    # Then reshape to [N, 1, N, N, 1] which we can concatenate with the\n",
    "    # original values.\n",
    "    pad_values = 10.0 * torch.sin(2.0 * torch.arange(grid_size[0], dtype=torch.float32) * 2.0 *  torch.tensor(np.pi, dtype=torch.float32) / grid_size[0])\n",
    "    pad_values = torch.unsqueeze(pad_values, dim=-1)\n",
    "    pad_values = torch.unsqueeze(pad_values, dim=-1)\n",
    "    pad_values = torch.unsqueeze(pad_values, dim=-1)\n",
    "    pad_values = torch.unsqueeze(pad_values, dim=-1)\n",
    "    # print(f\"pad_values.shape={pad_values.shape}\")\n",
    "    pad_values = torch.tile(pad_values, [1, 1, grid_size[0], grid_size[0], 1])\n",
    "    # print(f\"pad_values.shape={pad_values.shape}\")\n",
    "    # print(f\"config_a_variable.shape={config_a_variable.shape}\")\n",
    "\n",
    "    p1 = pad(config_a_variable[..., 1:], [0, 0] + [0, 0] +  [0, 0]+  [1, 0]+  [0, 0])\n",
    "    # print(f\"p1.shape={p1.shape}\")\n",
    "    # print(f\"torch.concat([pad_values, config_a_variable[..., :1]], dim=1).shape={torch.concat([pad_values, config_a_variable[..., :1]], dim=1).shape}\")\n",
    "    config_left_pad_x = torch.concat([\n",
    "        torch.concat([pad_values, config_a_variable[..., :1]], dim=1),\n",
    "        # pad(config_a_variable[..., 1:]+ [[0, 0]+ [1, 0]+ [0, 0]+ [0, 0]+ [0, 0]]),\n",
    "        p1,\n",
    "    ], dim=-1)\n",
    "\n",
    "    config_right_pad_x = torch.concat([\n",
    "        pad(config_a_variable[..., :1], [0, 0]+ [0, 0]+ [0, 0]+ [0, 1]+ [0, 0], \"constant\", -5),\n",
    "        pad(config_a_variable[..., 1:], [0, 0]+ [0, 0]+[0, 0]+ [0, 1]+ [0, 0]),\n",
    "    ], axis=-1)\n",
    "\n",
    "    config_left_pad_y = torch.concat([\n",
    "        pad(config_a_variable[..., :1], [0, 0]+ [0, 0]+ [1, 0]+ [0, 0]+ [0, 0]),\n",
    "        pad(config_a_variable[..., 1:], [0, 0]+ [0, 0]+ [1, 0]+ [0, 0]+ [0, 0]),\n",
    "    ], axis=-1)\n",
    "\n",
    "    config_dt_a = (\n",
    "        pad(config_a_variable, [0, 0]+ [0, 0]+ [0, 0]+ [0, 0]+ [0, 1]) -\n",
    "        pad(config_a_variable, [0, 0]+ [0, 0]+ [0, 0]+ [0, 0]+ [1, 0])\n",
    "    )\n",
    "    config_dx_a = config_right_pad_x - config_left_pad_x\n",
    "    config_dy_a = (\n",
    "        pad(config_a_variable, [0, 0]+ [0, 0]+ [0, 1]+ [0, 0]+ [0, 0]) -\n",
    "        config_left_pad_y\n",
    "    )\n",
    "    config_dz_a = (\n",
    "        pad(config_a_variable, [0, 0]+ [0, 1]+ [0, 0]+ [0, 0]+ [0, 0]) -\n",
    "        pad(config_a_variable, [0, 0]+ [1, 0]+ [0, 0]+ [0, 0]+ [0, 0])\n",
    "    )\n",
    "\n",
    "    # Convert to multivectors so we can use GA ops we need in the Lagrangian:\n",
    "    # the geometric product and reversion.\n",
    "    config_dt_a = ga.from_tensor_with_kind(config_dt_a, \"vector\")\n",
    "    config_dx_a = ga.from_tensor_with_kind(config_dx_a, \"vector\")\n",
    "    config_dy_a = ga.from_tensor_with_kind(config_dy_a, \"vector\")\n",
    "    config_dz_a = ga.from_tensor_with_kind(config_dz_a, \"vector\")\n",
    "\n",
    "    # Sum all the derivatives according to the action / Lagrangian and return a single scalar value\n",
    "    return torch.mean(ga.geom_prod(config_dt_a, ga.reversion(config_dt_a))[..., 0]).abs()/4 + \\\n",
    "        torch.mean(ga.geom_prod(config_dx_a, ga.reversion(config_dx_a))[..., 0]).abs()/4 + \\\n",
    "        torch.mean(ga.geom_prod(config_dy_a, ga.reversion(config_dy_a))[..., 0]).abs()/4 + \\\n",
    "        torch.mean(ga.geom_prod(config_dz_a, ga.reversion(config_dz_a))[..., 0]).abs()/4"
   ]
  },
  {
   "cell_type": "code",
   "execution_count": null,
   "metadata": {},
   "outputs": [],
   "source": []
  },
  {
   "cell_type": "markdown",
   "metadata": {},
   "source": [
    "### Initialize the 4-vector field variable randomly"
   ]
  },
  {
   "cell_type": "code",
   "execution_count": null,
   "metadata": {},
   "outputs": [],
   "source": [
    "grid_size = [16, 16, 16, 16]\n",
    "# grid_size = [4]*4\n",
    "# grid_size = [8]*4\n",
    "# grid_size = [6]*4\n",
    "\n",
    "torch.manual_seed(0)\n",
    "config_a_variable = torch.tensor(torch.randn([*grid_size, 4]),requires_grad=True)"
   ]
  },
  {
   "cell_type": "code",
   "execution_count": null,
   "metadata": {},
   "outputs": [],
   "source": [
    "config_a_variable.shape"
   ]
  },
  {
   "cell_type": "markdown",
   "metadata": {},
   "source": [
    "### Optimize the 4-vector field variable to make the action stationary\n",
    "In order to make the action stationary we use a loss function that is minimal when the action is stationary (ie. the gradient of the action with respect to the field configuration is 0).\n",
    "We use the mean-squared error to create such a loss function, although other functions such as the absolute value would work too.\n",
    "\n",
    "We use Tensorflow's Adam optimizer to find a field configuration which minimizes the loss."
   ]
  },
  {
   "cell_type": "code",
   "execution_count": null,
   "metadata": {
    "tags": [
     "outputPrepend"
    ]
   },
   "outputs": [],
   "source": [
    "# optimizer = torch.optim.Adam(lr=0.01)\n",
    "\n",
    "# @tf.function\n",
    "# def train_step(config_a_variable):\n",
    "#     # Principle of stationary action:\n",
    "#     # Minimize the distance of gradient of the action to zero with respect to our field\n",
    "#     with tf.GradientTape() as tape_outer:\n",
    "#         tape_outer.watch(config_a_variable)\n",
    "#         with tf.GradientTape() as tape:\n",
    "#             tape.watch(config_a_variable)\n",
    "#             loss = get_action(config_a_variable)\n",
    "\n",
    "#         grads = tape.gradient(loss, [config_a_variable])\n",
    "#         grads_mse = tf.reduce_mean(tf.square(grads))\n",
    "#     grads2 = tape_outer.gradient(grads_mse, [config_a_variable])\n",
    "#     optimizer.apply_gradients(zip(grads2, [config_a_variable]))\n",
    "\n",
    "# optimizer = torch.optim.Adam(lr=0.01)\n",
    "# torch.optim.SGD(self.module.parameters(), lr=2e-2)\n",
    "# \n",
    "from torch.autograd import grad \n",
    "from tqdm.notebook import tqdm\n",
    "# def train_step(config_a_variable):\n",
    "#     # Principle of stationary action:\n",
    "#     # Minimize the distance of gradient of the action to zero with respect to our field\n",
    "    \n",
    "#     # config_a_variable.requires_grad=True\n",
    "    \n",
    "#     # optimizer.zero_grad()\n",
    "#     lr = 1e-2\n",
    "    \n",
    "#     loss = get_action(config_a_variable,grid_size)\n",
    "#     print(f\"loss={loss}\")\n",
    "\n",
    "#     grads = grad(loss, [config_a_variable], create_graph=True)[0]\n",
    "#     grads_mse = torch.mean(torch.square(grads))\n",
    "        \n",
    "#     grads2 = grad(grads_mse, [config_a_variable])[0]\n",
    "#     # optimizer.apply_gradients(zip(grads2, [config_a_variable]))\n",
    "#     config_a_variable = config_a_variable - lr * grads2\n",
    "\n",
    "\n",
    "for ki in  (pbar := tqdm(range(3000), miniters=int(223265/100))):\n",
    "    # train_step(config_a_variable)\n",
    "    # Principle of stationary action:\n",
    "    # Minimize the distance of gradient of the action to zero with respect to our field\n",
    "    \n",
    "    # config_a_variable.requires_grad=True\n",
    "    \n",
    "    # optimizer.zero_grad()\n",
    "    # lr = 2e-2\n",
    "    # lr = 7e-2\n",
    "    # lr = 1e-2\n",
    "    # lr = 3e-3\n",
    "    # lr = 7.\n",
    "    lr = 14.\n",
    "    \n",
    "    loss = get_action(config_a_variable,grid_size)\n",
    "    if ki%500==0: print(f\"loss({ki})={loss}\")\n",
    "    pbar.set_description(f\"loss({ki:04})={loss:0.6f}\")\n",
    "\n",
    "    grads = grad(loss, [config_a_variable], create_graph=True)[0]\n",
    "    grads_mse = torch.mean(torch.square(grads))\n",
    "        \n",
    "    grads2 = grad(grads_mse, [config_a_variable])[0]\n",
    "    # optimizer.apply_gradients(zip(grads2, [config_a_variable]))\n",
    "    # config_a_variable = config_a_variable - lr * grads2   +lr/10*grads\n",
    "    config_a_variable = config_a_variable - lr * grads2/(1e-12 + (grads2**2).sum()**.5 )    "
   ]
  },
  {
   "cell_type": "code",
   "execution_count": null,
   "metadata": {},
   "outputs": [],
   "source": [
    "grads2, grad\n",
    "\n",
    "# config_a_variable = config_a_variable.cuda()\n",
    "# config_a_variable.requires_grad_=True"
   ]
  },
  {
   "cell_type": "markdown",
   "metadata": {},
   "source": [
    "### Extract and visualize the optimized electric field\n",
    "Now we can take the result, that is the $A$ at every spacetime point and visualize it. Obviously we can't visualize a 4 dimensional 4-vector field. However we can look at\n",
    "individual 2D slices of the electric potential field, which is the first component of the 4-vector, where the other two coordinates take on a specific value."
   ]
  },
  {
   "cell_type": "code",
   "execution_count": null,
   "metadata": {
    "tags": [
     "outputPrepend"
    ]
   },
   "outputs": [],
   "source": [
    "# Plot electric potential slices. We are not plotting the boundaries here.\n",
    "\n",
    "config_a_variable = config_a_variable.detach().cpu()\n",
    "plt.figure(figsize=(7, 7))\n",
    "plt.imshow(config_a_variable[..., 0, 0, 0])\n",
    "plt.colorbar()\n",
    "plt.title(\"Electric potential in TX plane Y=0, Z=0\")\n",
    "plt.xlabel(\"X\")\n",
    "plt.ylabel(\"T\")\n",
    "plt.show()\n",
    "\n",
    "plt.figure(figsize=(7, 7))\n",
    "plt.imshow(config_a_variable[..., 0, 5, :, :, 0].detach().cpu())\n",
    "plt.colorbar()\n",
    "plt.title(\"Electric potential in YZ plane T=0, X=5\")\n",
    "plt.xlabel(\"Z\")\n",
    "plt.ylabel(\"Y\")\n",
    "plt.show()\n",
    "\n",
    "plt.figure(figsize=(7, 7))\n",
    "plt.imshow(config_a_variable[..., 2, :, :, 0, 0].detach().cpu())\n",
    "plt.colorbar()\n",
    "plt.title(\"Electric potential in XY plane T=2, Z=0\")\n",
    "plt.xlabel(\"Y\")\n",
    "plt.ylabel(\"X\")\n",
    "plt.show()"
   ]
  },
  {
   "cell_type": "markdown",
   "metadata": {},
   "source": [
    "In the first figure we can see the potential close to X=0 (where we applied the sine boundary condition) changing over time.\n",
    "The second figure shows the YZ slice at T=0, X=5 where the potential is almost constant but we still have a radial symmetry.\n",
    "The last figure shows the XY slice at T=2, Z=0 where the potential takes its maximum value around X=0 if we look at the first figure. We can also see that on upper boundary of X that we have a negative potential as we applied a constant negative electric potential for boundary condition there.\n",
    "\n",
    "We can also visualize the XY slices over time in a video. For this I saved the XY slices at all times and converted them to a webm using ffmpeg. Here we can see the electric potential close to X=0 changing over time as we expected from the boundary condition. (Direct link: [em_output/electric_potential.webm](https://raw.githubusercontent.com/RobinKa/tfga/master/notebooks/em_output/electric_potential.webm))"
   ]
  },
  {
   "cell_type": "code",
   "execution_count": null,
   "metadata": {},
   "outputs": [],
   "source": [
    "Video(\"./em_output/electric_potential.webm\")"
   ]
  },
  {
   "cell_type": "markdown",
   "metadata": {},
   "source": [
    "Next we can look at the electric vector field corresponding to the electric potential: $E = -\\nabla_{x,y,z} \\langle A(X) \\rangle_{e0} - \\nabla_t \\langle A(X) \\rangle_{e1,e2,e3}$"
   ]
  },
  {
   "cell_type": "code",
   "execution_count": null,
   "metadata": {},
   "outputs": [],
   "source": [
    "def draw_electric_field_xy(t, z):\n",
    "    # Extract XY slice of electric potential [T=t, X, Y, Z=0, 0]\n",
    "    electric_potential = config_a_variable[t, :, :, z, 0]\n",
    "    magnetic_potential_t = config_a_variable[t, :, :, z, 1:]\n",
    "    magnetic_potential_t2 = config_a_variable[t+1, :, :, z, 1:]\n",
    "\n",
    "    # The electric field can be obtained from the 4-vector potential:\n",
    "    # E = - (d/dx, d/dy, d/dz) <A>_e0 - d/dt <A>_e1,e2,e3\n",
    "    # We can use finite differences again to approximate the derivatives.\n",
    "    # We also need to get rid of the last element of the respective other axis,\n",
    "    # since we couldn't calculate the last finite difference as that would\n",
    "    # require using the boundary condition (which is possible, but would require extra code).\n",
    "\n",
    "    # Start with -(d/dx, d/dy, d/dz) <A>_e0\n",
    "    ex = -(electric_potential[1:, :-1] - electric_potential[:-1, :-1])\n",
    "    ey = -(electric_potential[:-1, 1:] - electric_potential[:-1, :-1])\n",
    "    \n",
    "    # Calculate d/dt <A>_e1,e2,e3 and add it to the previous calculation\n",
    "    dt_mag_a = -(magnetic_potential_t2[-1, :-1] - magnetic_potential_t[:-1, :-1])\n",
    "\n",
    "    ex += dt_mag_a[..., 0]\n",
    "    ey += dt_mag_a[..., 1]\n",
    "\n",
    "    ys, xs = np.meshgrid(np.arange(ex.shape[0]), np.arange(ex.shape[1]))\n",
    "\n",
    "    plt.figure(figsize=(10, 10))\n",
    "    plt.quiver(ys, xs, ey, ex, scale=10, scale_units=\"inches\")\n",
    "    plt.xlabel(\"Y\")\n",
    "    plt.ylabel(\"X\")\n",
    "    plt.title(\"Electric field XY at T=%d, Z=%d\" % (t, z))\n",
    "\n",
    "draw_electric_field_xy(t=2, z=0)\n",
    "plt.show()"
   ]
  },
  {
   "cell_type": "markdown",
   "metadata": {},
   "source": [
    "And again I made a video showing all the time slices. (Direct link: [em_output/electric_field.webm](https://raw.githubusercontent.com/RobinKa/tfga/master/notebooks/em_output/electric_field.webm))"
   ]
  },
  {
   "cell_type": "code",
   "execution_count": null,
   "metadata": {},
   "outputs": [],
   "source": [
    "# Video(\"./em_output/electric_field.webm\")\n",
    "\n",
    "Video(\"notebooks_em_output_electric_field.webm\")\n"
   ]
  },
  {
   "cell_type": "code",
   "execution_count": null,
   "metadata": {},
   "outputs": [],
   "source": []
  }
 ],
 "metadata": {
  "kernelspec": {
   "display_name": "Python 3",
   "language": "python",
   "name": "python3"
  },
  "language_info": {
   "codemirror_mode": {
    "name": "ipython",
    "version": 3
   },
   "file_extension": ".py",
   "mimetype": "text/x-python",
   "name": "python",
   "nbconvert_exporter": "python",
   "pygments_lexer": "ipython3",
   "version": "3.10.9"
  },
  "orig_nbformat": 2,
  "vscode": {
   "interpreter": {
    "hash": "10ff9cff1e0293119a5a1fdb939fd95de09217e1f26359b091d157f526f5e737"
   }
  }
 },
 "nbformat": 4,
 "nbformat_minor": 2
}
