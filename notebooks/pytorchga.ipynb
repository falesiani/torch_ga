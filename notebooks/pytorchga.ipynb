{
 "cells": [
  {
   "cell_type": "code",
   "execution_count": null,
   "metadata": {},
   "outputs": [],
   "source": [
    "%load_ext autoreload\n",
    "%autoreload 2\n",
    "\n",
    "\n",
    "import numpy as np\n",
    "\n",
    "import torch\n",
    "from torch_ga import GeometricAlgebra"
   ]
  },
  {
   "cell_type": "code",
   "execution_count": null,
   "metadata": {},
   "outputs": [],
   "source": [
    "sta = GeometricAlgebra([1, -1, -1, -1])"
   ]
  },
  {
   "cell_type": "code",
   "execution_count": null,
   "metadata": {},
   "outputs": [],
   "source": [
    "sta.print(sta.geom_prod(sta.e0, sta.e1))\n",
    "a = sta.geom_prod(sta.e0, sta.from_scalar(4.0))\n",
    "b = sta.geom_prod(sta.from_scalar(9.0), sta.e1)\n",
    "sta.print(a)\n",
    "sta.print(b)\n",
    "sta.print(a, b)\n",
    "sta.print(\n",
    "    sta.e0,\n",
    "    sta.e1,\n",
    "    sta.e(\"0\", \"1\"),\n",
    "    sta.e01,\n",
    "    sta.e10\n",
    ")"
   ]
  },
  {
   "cell_type": "code",
   "execution_count": null,
   "metadata": {},
   "outputs": [],
   "source": [
    "sta.print(\"a:\", a)\n",
    "sta.print(\"~a:\", sta.reversion(a))\n",
    "sta.print(\"inv a:\", sta.inverse(a))\n",
    "sta.print(\"b:\", b)\n",
    "sta.print(\"~b:\", sta.reversion(b))\n",
    "sta.print(\"inv b:\", sta.inverse(b))"
   ]
  },
  {
   "cell_type": "code",
   "execution_count": null,
   "metadata": {},
   "outputs": [],
   "source": [
    "mv_a = sta(a)\n",
    "mv_b = sta(b)\n",
    "\n",
    "print(\"a:\", mv_a)\n",
    "print(\"~a:\", ~mv_a)\n",
    "print(\"inv a:\", mv_a.inverse())\n",
    "print(\"b:\", mv_b)\n",
    "print(\"~b:\", ~mv_b)\n",
    "print(\"inv a:\", mv_b.inverse())\n",
    "print(\"a + b:\", mv_a + mv_b)\n",
    "print(\"a / b:\", mv_a / mv_b)\n",
    "print(\"~(a / b):\", ~(mv_a / mv_b))"
   ]
  },
  {
   "cell_type": "code",
   "execution_count": null,
   "metadata": {},
   "outputs": [],
   "source": [
    "c = sta.geom_prod(a, b)\n",
    "sta.print(\"c = a * b:\", c)\n",
    "sta.print(\"c * c^-1:\", sta.geom_prod(c, sta.inverse(c)))\n",
    "sta.print(\"a * a^-1\", sta.geom_prod(a, sta.inverse(a)))\n",
    "sta.print(\"b * b^-1:\", sta.geom_prod(b, sta.inverse(b)))\n",
    "a_inv_c = sta.geom_prod(sta.inverse(a), c)\n",
    "# sta.print(\"a^-1 * c:\", a_inv_c, \"should be b:\", b, tf.reduce_all(a_inv_c == b))\n",
    "sta.print(\"a^-1 * c:\", a_inv_c, \"should be b:\", b, all(a_inv_c == b))\n",
    "c_b_inv = sta.geom_prod(c, sta.inverse(b))\n",
    "# sta.print(\"c * b^-1:\", c_b_inv, \"should be a:\", a, tf.reduce_all(c_b_inv == a))\n",
    "sta.print(\"c * b^-1:\", c_b_inv, \"should be a:\", a, all(c_b_inv == a))"
   ]
  },
  {
   "cell_type": "code",
   "execution_count": null,
   "metadata": {},
   "outputs": [],
   "source": [
    "# sta._blade_degrees.shape"
   ]
  },
  {
   "cell_type": "code",
   "execution_count": null,
   "metadata": {},
   "outputs": [],
   "source": [
    "sta.print(\"c:\", c)\n",
    "sta.print(\"e0:\", sta.e0)\n",
    "sta.print(\"e0^-1:\", sta.simple_inverse(sta.e0)) # Faster, only works if c ~c is a scalar \n",
    "sta.print(\"c^-1:\", sta.simple_inverse(c)) # Faster, only works if c ~c is a scalar \n",
    "sta.print(\"c^-1 shirokov:\", sta.inverse(c)) # Always works if an inverse exists"
   ]
  },
  {
   "cell_type": "code",
   "execution_count": null,
   "metadata": {},
   "outputs": [],
   "source": [
    "d = sta.geom_prod(a, b) + b\n",
    "sta.print(d)"
   ]
  },
  {
   "cell_type": "code",
   "execution_count": null,
   "metadata": {},
   "outputs": [],
   "source": [
    "sta.print(sta.inner_prod(a, b))\n",
    "sta.print(sta.ext_prod(a, b))"
   ]
  },
  {
   "cell_type": "code",
   "execution_count": null,
   "metadata": {},
   "outputs": [],
   "source": [
    "m = torch.ones(16)\n",
    "sta.print(\"m:\", m)\n",
    "sta.print(\"~m:\", sta.reversion(m))\n",
    "sta.print(\"bar m:\", sta.conjugation(m))\n",
    "sta.print(\"bar~m:\", sta.grade_automorphism(m))"
   ]
  },
  {
   "attachments": {},
   "cell_type": "markdown",
   "metadata": {},
   "source": [
    "m: MultiVector[1.00*1 + 1.00*e_0 + 1.00*e_1 + 1.00*e_2 + 1.00*e_3 + 1.00*e_01 + 1.00*e_02 + 1.00*e_03 + 1.00*e_12 + 1.00*e_13 + 1.00*e_23 + 1.00*e_012 + 1.00*e_013 + 1.00*e_023 + 1.00*e_123 + 1.00*e_0123]\n",
    "~m: MultiVector[1.00*1 + 1.00*e_0 + 1.00*e_1 + 1.00*e_2 + 1.00*e_3 + -1.00*e_01 + -1.00*e_02 + -1.00*e_03 + -1.00*e_12 + -1.00*e_13 + -1.00*e_23 + -1.00*e_012 + -1.00*e_013 + -1.00*e_023 + -1.00*e_123 + 1.00*e_0123]\n",
    "bar m: MultiVector[1.00*1 + -1.00*e_0 + -1.00*e_1 + -1.00*e_2 + -1.00*e_3 + -1.00*e_01 + -1.00*e_02 + -1.00*e_03 + -1.00*e_12 + -1.00*e_13 + -1.00*e_23 + 1.00*e_012 + 1.00*e_013 + 1.00*e_023 + 1.00*e_123 + 1.00*e_0123]\n",
    "bar~m: MultiVector[1.00*1 + -1.00*e_0 + -1.00*e_1 + -1.00*e_2 + -1.00*e_3 + 1.00*e_01 + 1.00*e_02 + 1.00*e_03 + 1.00*e_12 + 1.00*e_13 + 1.00*e_23 + -1.00*e_012 + -1.00*e_013 + -1.00*e_023 + -1.00*e_123 + 1.00*e_0123]"
   ]
  },
  {
   "cell_type": "code",
   "execution_count": null,
   "metadata": {},
   "outputs": [],
   "source": [
    "complex_ga = GeometricAlgebra([1, 1])\n",
    "print(complex_ga.basis_mvs)"
   ]
  },
  {
   "cell_type": "code",
   "execution_count": null,
   "metadata": {},
   "outputs": [],
   "source": [
    "x = complex_ga.from_scalar(5.0)\n",
    "imag = complex_ga.e01\n",
    "r = complex_ga.approx_exp(complex_ga.geom_prod(complex_ga.from_scalar(np.deg2rad(45).astype(np.float32)), imag))\n",
    "complex_ga.print(\"x:\", x)\n",
    "complex_ga.print(\"e0:\", complex_ga.e0)\n",
    "complex_ga.print(\"e1:\", complex_ga.e1)\n",
    "complex_ga.print(\"i = e01:\", imag)\n",
    "complex_ga.print(\"i^2:\", complex_ga.geom_prod(imag, imag))\n",
    "complex_ga.print(\"r = e^(45° * e12):\", r)\n",
    "complex_ga.print(\"x * r (x rotated 45°):\", complex_ga.geom_prod(x, r))\n",
    "complex_ga.print(\"x * ~r (x rotated -45°):\", complex_ga.geom_prod(x, complex_ga.reversion(r)))"
   ]
  },
  {
   "cell_type": "code",
   "execution_count": null,
   "metadata": {},
   "outputs": [],
   "source": [
    "# x: MultiVector[5.00*1]\n",
    "# e0: MultiVector[1.00*e_0]\n",
    "# e1: MultiVector[1.00*e_1]\n",
    "# i = e01: MultiVector[1.00*e_01]\n",
    "# i^2: MultiVector[-1.00*1]\n",
    "# r = e^(45° * e12): MultiVector[0.71*1 + 0.71*e_01]\n",
    "# x * r (x rotated 45°): MultiVector[3.54*1 + 3.54*e_01]\n",
    "# x * ~r (x rotated -45°): MultiVector[3.54*1 + -3.54*e_01]"
   ]
  },
  {
   "cell_type": "code",
   "execution_count": null,
   "metadata": {},
   "outputs": [],
   "source": [
    "for i in range(9):\n",
    "    complex_ga.print(i, \"%d°\" % (i * 45), complex_ga.int_pow(r, i))"
   ]
  },
  {
   "attachments": {},
   "cell_type": "markdown",
   "metadata": {},
   "source": [
    "0 0° MultiVector[1.00*1]\n",
    "1 45° MultiVector[0.71*1 + 0.71*e_01]\n",
    "2 90° MultiVector[1.00*e_01]\n",
    "3 135° MultiVector[-0.71*1 + 0.71*e_01]\n",
    "4 180° MultiVector[-1.00*1]\n",
    "5 225° MultiVector[-0.71*1 + -0.71*e_01]\n",
    "6 270° MultiVector[-1.00*e_01]\n",
    "7 315° MultiVector[0.71*1 + -0.71*e_01]\n",
    "8 360° MultiVector[1.00*1]"
   ]
  },
  {
   "cell_type": "code",
   "execution_count": null,
   "metadata": {},
   "outputs": [],
   "source": [
    "# MultiVector[0.71*1 + 0.71*e_01]\n",
    "complex_ga.print(complex_ga.int_pow(r, 25))"
   ]
  },
  {
   "cell_type": "code",
   "execution_count": null,
   "metadata": {},
   "outputs": [],
   "source": [
    "# MultiVector[0.80*1]\n",
    "# MultiVector[-0.22*1] expected -0.2231435513142097\n",
    "# MultiVector[0.80*1] expected 0.8\n",
    "# MultiVector[-283.90*1] expected 0.8\n",
    "\n",
    "y = complex_ga.from_scalar(0.8)\n",
    "complex_ga.print(y)\n",
    "complex_ga.print(complex_ga.approx_log(y), \"expected\", np.log(0.8))\n",
    "complex_ga.print(complex_ga.approx_exp(complex_ga.approx_log(y)), \"expected\", 0.8)\n",
    "complex_ga.print(complex_ga.approx_log(complex_ga.approx_exp(y)), \"expected\", 0.8) # doesn't work because approx_log only works for |x -1| < 1"
   ]
  },
  {
   "attachments": {},
   "cell_type": "markdown",
   "metadata": {},
   "source": [
    "MultiVector[0.80*1]\n",
    "MultiVector[-0.22*1] expected -0.2231435513142097\n",
    "MultiVector[0.80*1] expected 0.8\n",
    "MultiVector[-283.90*1] expected 0.8"
   ]
  },
  {
   "cell_type": "code",
   "execution_count": null,
   "metadata": {},
   "outputs": [],
   "source": [
    "# MultiVector[batch_shape=torch.Size([3])]\n",
    "# MultiVector[4.00*e_0]\n",
    "u = torch.tile(torch.unsqueeze(a, dim=0), [3, 1])\n",
    "sta.print(u)\n",
    "sta.print(u[0])"
   ]
  },
  {
   "cell_type": "code",
   "execution_count": null,
   "metadata": {},
   "outputs": [],
   "source": [
    "# MultiVector[1.00*1 + 1.00*e_0 + 1.00*e_1 + 1.00*e_2 + 1.00*e_3 + 1.00*e_01 + 1.00*e_02 + 1.00*e_03 + 1.00*e_12 + 1.00*e_13 + 1.00*e_23 + 1.00*e_012 + 1.00*e_013 + 1.00*e_023 + 1.00*e_123 + 1.00*e_0123]\n",
    "# MultiVector[1.00*e_1 + 1.00*e_01]\n",
    "# MultiVector[1.00*e_2]\n",
    "# R: tensor([ 1.,  1., -1.])\n",
    "# R: tensor([1., 1., 1., 1.])\n",
    "# R: tensor(1.)\n",
    "# tensor(1.)\n",
    "\n",
    "v = sta.from_tensor_with_kind(torch.ones(16, dtype=torch.float32), \"mv\")\n",
    "sta.print(v)\n",
    "sta.print(sta.keep_blades_with_name(v, [\"10\", \"1\"]))\n",
    "sta.print(sta.keep_blades_with_name(v, \"2\"))\n",
    "sta.print(\"R:\", sta.select_blades_with_name(v, [\"0\", \"01\", \"10\"]))\n",
    "sta.print(\"R:\", sta.select_blades_with_name(v, [\"123\", \"01\", \"0\", \"0\"]))\n",
    "sta.print(\"R:\", sta.select_blades_with_name(v, \"312\"))\n",
    "sta.print(v[..., 0])"
   ]
  },
  {
   "attachments": {},
   "cell_type": "markdown",
   "metadata": {},
   "source": [
    "MultiVector[1.00*1 + 1.00*e_0 + 1.00*e_1 + 1.00*e_2 + 1.00*e_3 + 1.00*e_01 + 1.00*e_02 + 1.00*e_03 + 1.00*e_12 + 1.00*e_13 + 1.00*e_23 + 1.00*e_012 + 1.00*e_013 + 1.00*e_023 + 1.00*e_123 + 1.00*e_0123]\n",
    "MultiVector[1.00*e_1 + 1.00*e_01]\n",
    "MultiVector[1.00*e_2]\n",
    "R: tf.Tensor([ 1.  1. -1.], shape=(3,), dtype=float32)\n",
    "R: tf.Tensor([1. 1. 1. 1.], shape=(4,), dtype=float32)\n",
    "R: tf.Tensor(1.0, shape=(), dtype=float32)\n",
    "tf.Tensor(1.0, shape=(), dtype=float32)"
   ]
  },
  {
   "cell_type": "markdown",
   "metadata": {},
   "source": []
  }
 ],
 "metadata": {
  "kernelspec": {
   "display_name": "Python 3",
   "language": "python",
   "name": "python3"
  },
  "language_info": {
   "codemirror_mode": {
    "name": "ipython",
    "version": 3
   },
   "file_extension": ".py",
   "mimetype": "text/x-python",
   "name": "python",
   "nbconvert_exporter": "python",
   "pygments_lexer": "ipython3",
   "version": "3.10.9"
  },
  "orig_nbformat": 2,
  "vscode": {
   "interpreter": {
    "hash": "10ff9cff1e0293119a5a1fdb939fd95de09217e1f26359b091d157f526f5e737"
   }
  }
 },
 "nbformat": 4,
 "nbformat_minor": 2
}
